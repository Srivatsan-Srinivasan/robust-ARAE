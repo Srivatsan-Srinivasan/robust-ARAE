{
 "cells": [
  {
   "cell_type": "code",
   "execution_count": 31,
   "metadata": {},
   "outputs": [
    {
     "name": "stdout",
     "output_type": "stream",
     "text": [
      "Individual BLEU for each candidate [1.0, 0.7788007830714049, 0, 0.5506953149031838]\n",
      "Overall Avg 0.5823740244936472\n"
     ]
    },
    {
     "name": "stderr",
     "output_type": "stream",
     "text": [
      "C:\\Users\\SrivatsanPC\\Anaconda3\\lib\\site-packages\\nltk\\translate\\bleu_score.py:490: UserWarning: \n",
      "Corpus/Sentence contains 0 counts of 2-gram overlaps.\n",
      "BLEU scores might be undesirable; use SmoothingFunction().\n",
      "  warnings.warn(_msg)\n"
     ]
    }
   ],
   "source": [
    "from nltk.translate.bleu_score import corpus_bleu\n",
    "from nltk.tokenize import TweetTokenizer\n",
    "tknzr = TweetTokenizer()\n",
    "\n",
    "#Corpus as list of sentences, Candidates as list of sentences.\n",
    "corpus = ['this is a test.', 'this is hard test.']\n",
    "candidates = ['this is hard test.', 'this is hard test','blah blah blah blah', 'blah blah blah.']\n",
    "\n",
    "def construct_references(sentences):\n",
    "    references = [tknzr.tokenize(sentence) for sentence in sentences]\n",
    "    return [references]\n",
    "\n",
    "#single Candidate\n",
    "def construct_candidate(candidate):\n",
    "    tokens = tknzr.tokenize(candidate)\n",
    "    return[tokens]\n",
    "\n",
    "#Returns average bleu for all sentences. returns individual bleus too as list for each candidate.\n",
    "def calculate_bleu(corpus_list, candidates_list):\n",
    "    references = construct_references(corpus_list)\n",
    "    candidates = [construct_candidate(x) for x in candidates_list]\n",
    "    bleus = [corpus_bleu(references,candidate) for candidate in candidates]\n",
    "    return sum(bleus)/len(bleus), bleus\n",
    "    \n",
    "bleus = calculate_bleu(corpus,candidates)\n",
    "print(\"Individual BLEU for each candidate\", bleus[1])\n",
    "print(\"Overall Avg\", bleus[0])"
   ]
  },
  {
   "cell_type": "code",
   "execution_count": null,
   "metadata": {
    "collapsed": true
   },
   "outputs": [],
   "source": []
  }
 ],
 "metadata": {
  "kernelspec": {
   "display_name": "Python 3",
   "language": "python",
   "name": "python3"
  },
  "language_info": {
   "codemirror_mode": {
    "name": "ipython",
    "version": 3
   },
   "file_extension": ".py",
   "mimetype": "text/x-python",
   "name": "python",
   "nbconvert_exporter": "python",
   "pygments_lexer": "ipython3",
   "version": "3.6.1"
  }
 },
 "nbformat": 4,
 "nbformat_minor": 2
}
