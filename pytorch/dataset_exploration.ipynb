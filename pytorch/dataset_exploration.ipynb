{
 "cells": [
  {
   "cell_type": "code",
   "execution_count": 1,
   "metadata": {
    "collapsed": true
   },
   "outputs": [],
   "source": [
    "with open('snli_lm/train.txt', 'r') as f:\n",
    "    text = f.read().split('\\n')"
   ]
  },
  {
   "cell_type": "code",
   "execution_count": 2,
   "metadata": {
    "collapsed": true
   },
   "outputs": [],
   "source": [
    "lengths = [len(line.split()) for line in text]"
   ]
  },
  {
   "cell_type": "code",
   "execution_count": 3,
   "metadata": {
    "collapsed": true
   },
   "outputs": [],
   "source": [
    "from matplotlib import pyplot as plt"
   ]
  },
  {
   "cell_type": "code",
   "execution_count": 4,
   "metadata": {},
   "outputs": [
    {
     "data": {
      "image/png": "[encoded data removed]",
      "text/plain": [
       "<matplotlib.figure.Figure at 0x247f04a7c88>"
      ]
     },
     "metadata": {},
     "output_type": "display_data"
    }
   ],
   "source": [
    "plt.hist(lengths, bins=30)\n",
    "plt.show()"
   ]
  },
  {
   "cell_type": "code",
   "execution_count": 18,
   "metadata": {},
   "outputs": [
    {
     "data": {
      "text/plain": [
       "0.37948039215686274"
      ]
     },
     "execution_count": 18,
     "metadata": {},
     "output_type": "execute_result"
    }
   ],
   "source": [
    "len([l for l in lengths if l>=10]) / 714000"
   ]
  },
  {
   "cell_type": "code",
   "execution_count": 10,
   "metadata": {
    "scrolled": true
   },
   "outputs": [
    {
     "data": {
      "text/plain": [
       "714668"
      ]
     },
     "execution_count": 10,
     "metadata": {},
     "output_type": "execute_result"
    }
   ],
   "source": [
    "len(lengths)"
   ]
  },
  {
   "cell_type": "code",
   "execution_count": 13,
   "metadata": {},
   "outputs": [],
   "source": [
    "idx_long = set([k for k,l in enumerate(lengths) if l > 15])\n",
    "long_sentences = [s for k,s in enumerate(text) if k in idx_long]"
   ]
  },
  {
   "cell_type": "code",
   "execution_count": 16,
   "metadata": {},
   "outputs": [
    {
     "name": "stdout",
     "output_type": "stream",
     "text": [
      "An older man sits with his orange juice at a small table in a coffee shop while employees in bright colored shirts smile in the background .\n",
      "\n",
      "A few people in a restaurant setting , one of them is drinking orange juice .\n",
      "\n",
      "A man with blond-hair , and a brown shirt drinking out of a public water fountain .\n",
      "\n",
      "A Little League team tries to catch a runner sliding into a base in an afternoon game .\n",
      "\n",
      "The school is having a special event in order to show the american culture on how other cultures are dealt with in parties .\n",
      "\n",
      "High fashion ladies wait outside a tram beside a crowd of people in the city .\n",
      "\n",
      "A man and a woman cross the street in front of a pizza and gyro restaurant .\n",
      "\n",
      "A woman in a green jacket and hood over her head looking towards a valley .\n",
      "\n",
      "Woman in white in foreground and a man slightly behind walking with a sign for John 's Pizza and Gyro in the background .\n",
      "\n",
      "Two adults , one female in white , with shades and one male , gray clothes , walking across a street , away from a eatery with a blurred image of a dark colored red shirted person in the foreground .\n"
     ]
    }
   ],
   "source": [
    "print('\\n\\n'.join(long_sentences[:10]))"
   ]
  }
 ],
 "metadata": {
  "kernelspec": {
   "display_name": "Python 3",
   "language": "python",
   "name": "python3"
  },
  "language_info": {
   "codemirror_mode": {
    "name": "ipython",
    "version": 3
   },
   "file_extension": ".py",
   "mimetype": "text/x-python",
   "name": "python",
   "nbconvert_exporter": "python",
   "pygments_lexer": "ipython3",
   "version": "3.6.1"
  }
 },
 "nbformat": 4,
 "nbformat_minor": 1
}
