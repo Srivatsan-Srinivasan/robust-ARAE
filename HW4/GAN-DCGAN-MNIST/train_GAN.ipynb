{
 "cells": [
  {
   "cell_type": "markdown",
   "metadata": {},
   "source": [
    "### Vanilla GAN"
   ]
  },
  {
   "cell_type": "code",
   "execution_count": 1,
   "metadata": {},
   "outputs": [],
   "source": [
    "from pytorch_MNIST_GAN import *"
   ]
  },
  {
   "cell_type": "code",
   "execution_count": 2,
   "metadata": {},
   "outputs": [
    {
     "name": "stderr",
     "output_type": "stream",
     "text": [
      "/usr/local/lib/python3.5/dist-packages/torch/nn/functional.py:1168: UserWarning: Using a target size (torch.Size([128])) that is different to the input size (torch.Size([128, 1])) is deprecated. Please ensure they have the same size.\n",
      "  \"Please ensure they have the same size.\".format(target.size(), input.size()))\n",
      "/usr/local/lib/python3.5/dist-packages/torch/nn/functional.py:1168: UserWarning: Using a target size (torch.Size([96])) that is different to the input size (torch.Size([96, 1])) is deprecated. Please ensure they have the same size.\n",
      "  \"Please ensure they have the same size.\".format(target.size(), input.size()))\n"
     ]
    },
    {
     "name": "stdout",
     "output_type": "stream",
     "text": [
      "[1/100]: loss_d: 0.617, loss_g: 4.148\n",
      "[2/100]: loss_d: 0.534, loss_g: 6.070\n",
      "[3/100]: loss_d: 0.924, loss_g: 5.790\n",
      "[4/100]: loss_d: 1.111, loss_g: 6.668\n",
      "[5/100]: loss_d: 0.829, loss_g: 4.941\n",
      "[6/100]: loss_d: 0.877, loss_g: 3.614\n",
      "[7/100]: loss_d: 1.016, loss_g: 3.307\n",
      "[8/100]: loss_d: 1.149, loss_g: 2.793\n",
      "[9/100]: loss_d: 1.117, loss_g: 2.591\n",
      "[10/100]: loss_d: 1.138, loss_g: 3.800\n",
      "[11/100]: loss_d: 1.153, loss_g: 2.659\n",
      "[12/100]: loss_d: 0.871, loss_g: 3.052\n",
      "[13/100]: loss_d: 0.999, loss_g: 2.154\n",
      "[14/100]: loss_d: 0.888, loss_g: 1.818\n",
      "[15/100]: loss_d: 0.951, loss_g: 2.316\n",
      "[16/100]: loss_d: 0.975, loss_g: 2.030\n",
      "[17/100]: loss_d: 0.846, loss_g: 2.156\n",
      "[18/100]: loss_d: 0.755, loss_g: 2.960\n",
      "[19/100]: loss_d: 0.865, loss_g: 2.324\n",
      "[20/100]: loss_d: 0.924, loss_g: 2.281\n",
      "[21/100]: loss_d: 0.802, loss_g: 2.275\n",
      "[22/100]: loss_d: 0.740, loss_g: 2.849\n",
      "[23/100]: loss_d: 0.771, loss_g: 2.809\n",
      "[24/100]: loss_d: 0.627, loss_g: 3.026\n",
      "[25/100]: loss_d: 0.585, loss_g: 3.812\n",
      "[26/100]: loss_d: 0.805, loss_g: 2.354\n",
      "[27/100]: loss_d: 0.724, loss_g: 2.453\n",
      "[28/100]: loss_d: 0.650, loss_g: 2.831\n",
      "[29/100]: loss_d: 0.714, loss_g: 2.781\n",
      "[30/100]: loss_d: 0.740, loss_g: 2.613\n",
      "[31/100]: loss_d: 0.692, loss_g: 2.728\n",
      "[32/100]: loss_d: 0.704, loss_g: 2.501\n",
      "[33/100]: loss_d: 0.672, loss_g: 2.898\n",
      "[34/100]: loss_d: 0.554, loss_g: 2.872\n",
      "[35/100]: loss_d: 0.594, loss_g: 3.047\n",
      "[36/100]: loss_d: 0.580, loss_g: 3.123\n",
      "[37/100]: loss_d: 0.628, loss_g: 2.882\n",
      "[38/100]: loss_d: 0.670, loss_g: 2.644\n",
      "[39/100]: loss_d: 0.700, loss_g: 2.318\n",
      "[40/100]: loss_d: 0.730, loss_g: 2.251\n",
      "[41/100]: loss_d: 0.781, loss_g: 2.337\n",
      "[42/100]: loss_d: 0.715, loss_g: 2.305\n",
      "[43/100]: loss_d: 0.782, loss_g: 2.207\n",
      "[44/100]: loss_d: 0.762, loss_g: 2.302\n",
      "[45/100]: loss_d: 0.814, loss_g: 1.932\n",
      "[46/100]: loss_d: 0.748, loss_g: 2.111\n",
      "[47/100]: loss_d: 0.718, loss_g: 2.260\n",
      "[48/100]: loss_d: 0.717, loss_g: 2.241\n",
      "[49/100]: loss_d: 0.739, loss_g: 2.198\n",
      "[50/100]: loss_d: 0.729, loss_g: 2.141\n",
      "[51/100]: loss_d: 0.721, loss_g: 2.133\n",
      "[52/100]: loss_d: 0.728, loss_g: 2.199\n",
      "[53/100]: loss_d: 0.757, loss_g: 2.007\n",
      "[54/100]: loss_d: 0.805, loss_g: 1.984\n",
      "[55/100]: loss_d: 0.812, loss_g: 1.929\n",
      "[56/100]: loss_d: 0.781, loss_g: 2.008\n",
      "[57/100]: loss_d: 0.804, loss_g: 1.915\n",
      "[58/100]: loss_d: 0.827, loss_g: 1.876\n",
      "[59/100]: loss_d: 0.828, loss_g: 1.866\n",
      "[60/100]: loss_d: 0.822, loss_g: 1.851\n",
      "[61/100]: loss_d: 0.820, loss_g: 1.861\n",
      "[62/100]: loss_d: 0.827, loss_g: 1.840\n",
      "[63/100]: loss_d: 0.833, loss_g: 1.867\n",
      "[64/100]: loss_d: 0.826, loss_g: 1.860\n",
      "[65/100]: loss_d: 0.815, loss_g: 1.896\n",
      "[66/100]: loss_d: 0.844, loss_g: 1.798\n",
      "[67/100]: loss_d: 0.855, loss_g: 1.752\n",
      "[68/100]: loss_d: 0.871, loss_g: 1.721\n",
      "[69/100]: loss_d: 0.896, loss_g: 1.682\n",
      "[70/100]: loss_d: 0.883, loss_g: 1.705\n",
      "[71/100]: loss_d: 0.903, loss_g: 1.645\n",
      "[72/100]: loss_d: 0.891, loss_g: 1.661\n",
      "[73/100]: loss_d: 0.888, loss_g: 1.686\n",
      "[74/100]: loss_d: 0.897, loss_g: 1.638\n",
      "[75/100]: loss_d: 0.888, loss_g: 1.678\n",
      "[76/100]: loss_d: 0.908, loss_g: 1.647\n",
      "[77/100]: loss_d: 0.911, loss_g: 1.638\n",
      "[78/100]: loss_d: 0.906, loss_g: 1.619\n",
      "[79/100]: loss_d: 0.905, loss_g: 1.649\n",
      "[80/100]: loss_d: 0.911, loss_g: 1.633\n",
      "[81/100]: loss_d: 0.930, loss_g: 1.576\n",
      "[82/100]: loss_d: 0.924, loss_g: 1.597\n",
      "[83/100]: loss_d: 0.936, loss_g: 1.583\n",
      "[84/100]: loss_d: 0.936, loss_g: 1.580\n",
      "[85/100]: loss_d: 0.941, loss_g: 1.558\n",
      "[86/100]: loss_d: 0.937, loss_g: 1.564\n",
      "[87/100]: loss_d: 0.940, loss_g: 1.573\n",
      "[88/100]: loss_d: 0.936, loss_g: 1.559\n",
      "[89/100]: loss_d: 0.938, loss_g: 1.557\n",
      "[90/100]: loss_d: 0.949, loss_g: 1.570\n",
      "[91/100]: loss_d: 0.944, loss_g: 1.558\n",
      "[92/100]: loss_d: 0.953, loss_g: 1.525\n",
      "[93/100]: loss_d: 0.947, loss_g: 1.545\n",
      "[94/100]: loss_d: 0.945, loss_g: 1.548\n",
      "[95/100]: loss_d: 0.943, loss_g: 1.551\n",
      "[96/100]: loss_d: 0.960, loss_g: 1.515\n",
      "[97/100]: loss_d: 0.950, loss_g: 1.535\n",
      "[98/100]: loss_d: 0.948, loss_g: 1.535\n",
      "[99/100]: loss_d: 0.957, loss_g: 1.522\n",
      "[100/100]: loss_d: 0.966, loss_g: 1.505\n",
      "Saving Interpolated Results\n",
      "> /home/sbssbh/cs287-s18-sb_ss/HW4/GAN-DCGAN-MNIST/pytorch_MNIST_GAN.py(126)show_interpolated_result()\n",
      "-> plt.savefig(path)\n",
      "(Pdb) plt.savefig(path)\n",
      "(Pdb) continue\n",
      "Interpolated Results saved\n",
      "Training finish!... save training results\n"
     ]
    }
   ],
   "source": [
    "G_trained = train_GAN()"
   ]
  },
  {
   "cell_type": "markdown",
   "metadata": {},
   "source": [
    "### DCGAN"
   ]
  },
  {
   "cell_type": "code",
   "execution_count": null,
   "metadata": {},
   "outputs": [],
   "source": [
    "from pytorch_MNIST_DCGAN import *"
   ]
  },
  {
   "cell_type": "markdown",
   "metadata": {},
   "source": [
    "### WGAN"
   ]
  },
  {
   "cell_type": "code",
   "execution_count": null,
   "metadata": {},
   "outputs": [],
   "source": [
    "from pytorch_MNIST_WGAN import *"
   ]
  },
  {
   "cell_type": "markdown",
   "metadata": {},
   "source": [
    "### PixelGAN"
   ]
  },
  {
   "cell_type": "code",
   "execution_count": null,
   "metadata": {},
   "outputs": [],
   "source": [
    "from pytorch_MNIST_PixelGAN import *"
   ]
  },
  {
   "cell_type": "code",
   "execution_count": null,
   "metadata": {},
   "outputs": [],
   "source": [
    "0.4*torch.randn(1,100)+0.6*torch.randn(1,100)"
   ]
  },
  {
   "cell_type": "code",
   "execution_count": null,
   "metadata": {},
   "outputs": [],
   "source": [
    "    z1 = torch.randn((6, 2))\n",
    "    z2 = torch.randn((6, 2))\n",
    "    alphas = [0.2,0.4,0.6,0.8,1]\n",
    "    print(z1)\n",
    "    print(z2)\n",
    "    z_ = z1\n",
    "    for alpha in alphas:\n",
    "        z_ = torch.cat((z_, (1-alpha)*z1 + alpha*z2))\n",
    "    print(z_)\n",
    "    print(z_.shape)\n",
    "    \n",
    "        \n",
    "    \n",
    "    "
   ]
  },
  {
   "cell_type": "code",
   "execution_count": null,
   "metadata": {},
   "outputs": [],
   "source": []
  },
  {
   "cell_type": "code",
   "execution_count": null,
   "metadata": {},
   "outputs": [],
   "source": []
  }
 ],
 "metadata": {
  "kernelspec": {
   "display_name": "Python 3",
   "language": "python",
   "name": "python3"
  },
  "language_info": {
   "codemirror_mode": {
    "name": "ipython",
    "version": 3
   },
   "file_extension": ".py",
   "mimetype": "text/x-python",
   "name": "python",
   "nbconvert_exporter": "python",
   "pygments_lexer": "ipython3",
   "version": "3.5.2"
  }
 },
 "nbformat": 4,
 "nbformat_minor": 2
}
