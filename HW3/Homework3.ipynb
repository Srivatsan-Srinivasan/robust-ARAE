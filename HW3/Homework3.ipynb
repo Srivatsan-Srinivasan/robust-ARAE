{
 "cells": [
  {
   "cell_type": "markdown",
   "metadata": {},
   "source": [
    "# HW 3: Neural Machine Translation"
   ]
  },
  {
   "cell_type": "markdown",
   "metadata": {},
   "source": [
    "In this homework you will build a full neural machine translation system using an attention-based encoder-decoder network to translate from German to English. The encoder-decoder network with attention forms the backbone of many current text generation systems. See [Neural Machine Translation and Sequence-to-sequence Models: A Tutorial](https://arxiv.org/pdf/1703.01619.pdf) for an excellent tutorial that also contains many modern advances.\n",
    "\n",
    "## Goals\n",
    "\n",
    "\n",
    "1. Build a non-attentional baseline model (pure seq2seq as in [ref](https://papers.nips.cc/paper/5346-sequence-to-sequence-learning-with-neural-networks.pdf)). \n",
    "2. Incorporate attention into the baseline model ([ref](https://arxiv.org/abs/1409.0473) but with dot-product attention as in class notes).\n",
    "3. Implement beam search: review/tutorial [here](http://www.phontron.com/slides/nlp-programming-en-13-search.pdf)\n",
    "4. Visualize the attention distribution for a few examples. \n",
    "\n",
    "Consult the papers provided for hyperparameters, and the course notes for formal definitions.\n",
    "\n",
    "This will be the most time-consuming assignment in terms of difficulty/training time, so we recommend that you get started early!"
   ]
  },
  {
   "cell_type": "markdown",
   "metadata": {},
   "source": [
    "## Setup\n",
    "\n",
    "This notebook provides a working definition of the setup of the problem itself. Feel free to construct your models inline, or use an external setup (preferred) to build your system."
   ]
  },
  {
   "cell_type": "code",
   "execution_count": 1,
   "metadata": {},
   "outputs": [],
   "source": [
    "# Text text processing library and methods for pretrained word embeddings\n",
    "from torchtext import data\n",
    "from torchtext import datasets\n",
    "import torch as t"
   ]
  },
  {
   "cell_type": "markdown",
   "metadata": {},
   "source": [
    "We first need to process the raw data using a tokenizer. We are going to be using spacy, which can be installed via:  \n",
    "  `[sudo] pip install spacy`  \n",
    "  \n",
    "Tokenizers for English/German can be installed via:  \n",
    "  `[sudo] python -m spacy download en`  \n",
    "  `[sudo] python -m spacy download de`\n",
    "  \n",
    "This isn't *strictly* necessary, and you can use your own tokenization rules if you prefer (e.g. a simple `split()` in addition to some rules to acccount for punctuation), but we recommend sticking to the above."
   ]
  },
  {
   "cell_type": "code",
   "execution_count": 2,
   "metadata": {},
   "outputs": [],
   "source": [
    "import spacy\n",
    "spacy_de = spacy.load('de')\n",
    "spacy_en = spacy.load('en')\n",
    "\n",
    "def tokenize_de(text):\n",
    "    return [tok.text for tok in spacy_de.tokenizer(text)]\n",
    "\n",
    "def tokenize_en(text):\n",
    "    return [tok.text for tok in spacy_en.tokenizer(text)]\n"
   ]
  },
  {
   "cell_type": "markdown",
   "metadata": {},
   "source": [
    "Note that we need to add the beginning-of-sentence token `<s>` and the end-of-sentence token `</s>` to the \n",
    "target so we know when to begin/end translating. We do not need to do this on the source side."
   ]
  },
  {
   "cell_type": "code",
   "execution_count": 3,
   "metadata": {},
   "outputs": [],
   "source": [
    "BOS_WORD = '<s>'\n",
    "EOS_WORD = '</s>'\n",
    "DE = data.Field(tokenize=tokenize_de)\n",
    "EN = data.Field(tokenize=tokenize_en, init_token = BOS_WORD, eos_token = EOS_WORD) # only target needs BOS/EOS"
   ]
  },
  {
   "cell_type": "markdown",
   "metadata": {},
   "source": [
    "Let's download the data. This may take a few minutes.\n",
    "\n",
    "**While this dataset of 200K sentence pairs is relatively small compared to others, it will still take some time to train. So we are going to be only working with sentences of length at most 20 for this homework. Please train only on this reduced dataset for this homework.**"
   ]
  },
  {
   "cell_type": "code",
   "execution_count": 4,
   "metadata": {},
   "outputs": [
    {
     "name": "stdout",
     "output_type": "stream",
     "text": [
      "{'src': <torchtext.data.field.Field object at 0x7f1a18fbd390>, 'trg': <torchtext.data.field.Field object at 0x7f1a18fbd3c8>}\n",
      "119076\n",
      "{'trg': ['David', 'Gallo', ':', 'This', 'is', 'Bill', 'Lange', '.', 'I', \"'m\", 'Dave', 'Gallo', '.'], 'src': ['David', 'Gallo', ':', 'Das', 'ist', 'Bill', 'Lange', '.', 'Ich', 'bin', 'Dave', 'Gallo', '.']}\n"
     ]
    }
   ],
   "source": [
    "MAX_LEN = 20\n",
    "train, val, test = datasets.IWSLT.splits(exts=('.de', '.en'), fields=(DE, EN), \n",
    "                                         filter_pred=lambda x: len(vars(x)['src']) <= MAX_LEN and \n",
    "                                         len(vars(x)['trg']) <= MAX_LEN)\n",
    "print(train.fields)\n",
    "print(len(train))\n",
    "print(vars(train[0]))"
   ]
  },
  {
   "cell_type": "markdown",
   "metadata": {},
   "source": [
    "Now we build the vocabulary and convert the text corpus into indices. We are going to be replacing tokens that occurred less than 5 times with `<unk>` tokens, and take the rest as our vocab."
   ]
  },
  {
   "cell_type": "code",
   "execution_count": 5,
   "metadata": {},
   "outputs": [
    {
     "name": "stdout",
     "output_type": "stream",
     "text": [
      "[('.', 113253), (',', 67237), ('ist', 24189), ('die', 23778), ('das', 17102), ('der', 15727), ('und', 15622), ('Sie', 15085), ('es', 13197), ('ich', 12946)]\n",
      "Size of German vocab 13353\n",
      "[('.', 113433), (',', 59512), ('the', 46029), ('to', 29177), ('a', 27548), ('of', 26794), ('I', 24887), ('is', 21775), (\"'s\", 20630), ('that', 19814)]\n",
      "Size of English vocab 11560\n",
      "2 3\n"
     ]
    }
   ],
   "source": [
    "MIN_FREQ = 5\n",
    "DE.build_vocab(train.src, min_freq=MIN_FREQ)\n",
    "EN.build_vocab(train.trg, min_freq=MIN_FREQ)\n",
    "print(DE.vocab.freqs.most_common(10))\n",
    "print(\"Size of German vocab\", len(DE.vocab))\n",
    "print(EN.vocab.freqs.most_common(10))\n",
    "print(\"Size of English vocab\", len(EN.vocab))\n",
    "print(EN.vocab.stoi[\"<s>\"], EN.vocab.stoi[\"</s>\"]) #vocab index for <s>, </s>"
   ]
  },
  {
   "cell_type": "markdown",
   "metadata": {},
   "source": [
    "Now we split our data into batches as usual. Batching for MT is slightly tricky because source/target will be of different lengths. Fortunately, `torchtext` lets you do this by allowing you to pass in a `sort_key` function. This will minimizing the amount of padding on the source side, but since there is still some padding you will inadvertendly \"attend\" to these padding tokens. \n",
    "\n",
    "One way to get rid of padding is to pass a binary `mask` vector to your attention module so its attention score (before the softmax) is minus infinity for the padding token. Another way (which is how we do it for our projects, e.g. opennmt) is to manually sort data into batches so that each batch has exactly the same source length (this means that some batches will be less than the desired batch size, though).\n",
    "\n",
    "However, for this homework padding won't matter too much, so it's fine to ignore it."
   ]
  },
  {
   "cell_type": "code",
   "execution_count": 6,
   "metadata": {},
   "outputs": [],
   "source": [
    "BATCH_SIZE = 32\n",
    "train_iter, val_iter = data.BucketIterator.splits((train, val), batch_size=BATCH_SIZE, device=-1,\n",
    "                                                  repeat=False, sort_key=lambda x: len(x.src))"
   ]
  },
  {
   "cell_type": "markdown",
   "metadata": {},
   "source": [
    "Let's check to see that the BOS/EOS token is indeed appended to the target (English) sentence."
   ]
  },
  {
   "cell_type": "code",
   "execution_count": null,
   "metadata": {},
   "outputs": [],
   "source": [
    "batch = next(iter(train_iter))\n",
    "print(\"Source\")\n",
    "print(batch.src)\n",
    "print(\"Target\")\n",
    "print(batch.trg)\n"
   ]
  },
  {
   "cell_type": "markdown",
   "metadata": {},
   "source": [
    "Success! Now that we've processed the data, we are ready to begin modeling."
   ]
  },
  {
   "cell_type": "markdown",
   "metadata": {},
   "source": [
    "## Assignment\n",
    "\n",
    "Now it is your turn to build the models described at the top of the assignment. \n",
    "\n",
    "When a model is trained, use the following test function to produce predictions, and then upload to the kaggle competition: https://www.kaggle.com/c/cs287-hw3-s18/\n",
    "\n",
    "For the final Kaggle test, we will provide the source sentence, and you are to predict the **first three words of the target sentence**. The source sentence can be found under `source_test.txt`"
   ]
  },
  {
   "cell_type": "code",
   "execution_count": null,
   "metadata": {},
   "outputs": [],
   "source": [
    "!head source_test.txt"
   ]
  },
  {
   "cell_type": "markdown",
   "metadata": {},
   "source": [
    "Similar to HW1, you are to predict the 100 most probable 3-gram that will begin the target sentence. The submission format will be as follows, where each word in the 3-gram will be separated by \"|\", and each 3-gram will be separated by space. For example, here is what an example submission might look like with 5 most-likely 3-grams (instead of 100)."
   ]
  },
  {
   "cell_type": "markdown",
   "metadata": {},
   "source": [
    "```\n",
    "id,word\n",
    "1,Newspapers|talk|about When|I|was Researchers|call|the Twentysomethings|like|Alex But|before|long\n",
    "2,That|'s|what Newspapers|talk|about You|have|robbed It|'s|realizing My|parents|wanted\n",
    "3,We|forget|how We|think|about Proust|actually|links Does|any|other This|is|something\n",
    "4,But|what|do And|it|'s They|'re|on My|name|is It|only|happens\n",
    "```"
   ]
  },
  {
   "cell_type": "markdown",
   "metadata": {},
   "source": [
    "When you print out your data, you will need to escape quotes and commas with the following command so that Kaggle does not complain. "
   ]
  },
  {
   "cell_type": "code",
   "execution_count": null,
   "metadata": {},
   "outputs": [],
   "source": [
    "def escape(l):\n",
    "    return l.replace(\"\\\"\", \"<quote>\").replace(\",\", \"<comma>\")"
   ]
  },
  {
   "cell_type": "markdown",
   "metadata": {},
   "source": [
    "You should perform your hyperparameter search/early stopping/write-up based on perplexity, not the above metric. (In practice, people use a metric called [BLEU](https://www.aclweb.org/anthology/P02-1040.pdf), which is roughly a geometric average of 1-gram, 2-gram, 3-gram, 4-gram precision, with a brevity penalty for producing translations that are too short.)\n",
    "\n",
    "Finally, as always please put up a (short) write-up following the template provided in the repository:  https://github.com/harvard-ml-courses/cs287-s18/blob/master/template/\n"
   ]
  },
  {
   "cell_type": "code",
   "execution_count": 7,
   "metadata": {},
   "outputs": [],
   "source": [
    "import os\n",
    "os.chdir('../HW3')"
   ]
  },
  {
   "cell_type": "code",
   "execution_count": 8,
   "metadata": {},
   "outputs": [],
   "source": [
    "import torch as t\n",
    "import numpy as np\n",
    "from torch.autograd import Variable\n",
    "import torch.nn as nn\n",
    "import torch.nn.functional as F\n",
    "import os\n",
    "\n",
    "os.chdir('../HW3')  # so that there is not any import bug in case HW2 is not already the working directory\n",
    "from utils import *\n",
    "from const import *\n",
    "import argparse\n",
    "import torch as t\n",
    "from process_params import check_args, get_params\n",
    "from const import *\n",
    "from data_process import generate_iterators\n",
    "from utils import *\n",
    "t.manual_seed(1)\n",
    "\n",
    "import torchtext\n",
    "from torchtext.vocab import Vectors, GloVe\n",
    "from utils import variable\n",
    "from const import *\n",
    "import numpy as np\n",
    "from torch.autograd import Variable\n",
    "import spacy\n",
    "from torchtext import data\n",
    "from torchtext import datasets\n",
    "import pickle\n",
    "from copy import deepcopy"
   ]
  },
  {
   "cell_type": "code",
   "execution_count": 44,
   "metadata": {},
   "outputs": [],
   "source": [
    "class LSTMA(t.nn.Module):\n",
    "    \"\"\"\n",
    "    Implementation of `Neural Machine Translation by Jointly Learning to Align and Translate`\n",
    "    https://arxiv.org/abs/1409.0473\n",
    "\n",
    "    NOTE THAT ITS INPUT SHOULD HAVE THE BATCH SIZE FIRST !!!!!\n",
    "    \"\"\"\n",
    "\n",
    "    def __init__(self, params, source_embeddings=None, target_embeddings=None):\n",
    "        super(LSTMA, self).__init__()\n",
    "        print(\"Initializing LSTMA\")\n",
    "        self.cuda_flag = params.get('cuda', CUDA_DEFAULT)\n",
    "        self.model_str = 'LSTMA'\n",
    "        self.params = params\n",
    "\n",
    "        # Initialize hyperparams.\n",
    "        self.hidden_dim = params.get('hidden_dim', 100)\n",
    "        self.batch_size = params.get('batch_size', 32)\n",
    "        try:\n",
    "            # if you provide pre-trained embeddings for target/source, they should have the same embedding dim\n",
    "            assert source_embeddings.size(1) == target_embeddings.size(1)\n",
    "            self.embedding_dim = source_embeddings.size(1)\n",
    "            self.source_vocab_size = params.get('source_vocab_size')\n",
    "            self.target_vocab_size = params.get('target_vocab_size')\n",
    "        except:\n",
    "            # if you dont provide a pre-trained embedding, you have to provide these\n",
    "            self.embedding_dim = params.get('embedding_dim')\n",
    "            self.source_vocab_size = params.get('source_vocab_size')\n",
    "            self.target_vocab_size = params.get('target_vocab_size')\n",
    "            assert self.embedding_dim is not None and self.source_vocab_size is not None and self.target_vocab_size is not None\n",
    "        self.output_size = self.target_vocab_size\n",
    "        self.num_layers = params.get('num_layers', 1)\n",
    "        self.dropout = params.get('dropout', 0.5)\n",
    "        self.embed_dropout = params.get('embed_dropout')\n",
    "        self.train_embedding = params.get('train_embedding', True)\n",
    "\n",
    "        # Initialize embeddings. Static embeddings for now.\n",
    "        self.source_embeddings = t.nn.Embedding(self.source_vocab_size, self.embedding_dim)\n",
    "        self.target_embeddings = t.nn.Embedding(self.target_vocab_size, self.embedding_dim)\n",
    "        if source_embeddings is not None:\n",
    "            self.source_embeddings.weight = t.nn.Parameter(source_embeddings, requires_grad=self.train_embedding)\n",
    "        if target_embeddings is not None:\n",
    "            self.target_embeddings.weight = t.nn.Parameter(target_embeddings, requires_grad=self.train_embedding)\n",
    "\n",
    "        # Initialize network modules.\n",
    "        # note that the encoder is a BiLSTM. The output is modified by the fact that the hidden dim is doubled, and if you set\n",
    "        # the number of layers to L, there will actually be 2L layers (the forward ones and the backward ones). Consequently the first\n",
    "        # dimension of the hidden outputs of the forward pass (the 2nd output in the tuple) will be a tuple of\n",
    "        # 2 tensors having as first dim twice the hidden dim you set\n",
    "        self.encoder_rnn = t.nn.LSTM(self.embedding_dim, self.hidden_dim // 2, dropout=self.dropout, num_layers=self.num_layers, bidirectional=True, batch_first=True)\n",
    "        self.decoder_rnn = t.nn.LSTM(self.embedding_dim, self.hidden_dim, dropout=self.dropout, num_layers=self.num_layers, batch_first=True)\n",
    "        self.hidden_dec_initializer = t.nn.Linear(self.hidden_dim // 2, self.num_layers * self.hidden_dim)\n",
    "        self.hidden2out = t.nn.Linear(self.hidden_dim * 2, self.output_size)\n",
    "        if self.embed_dropout:\n",
    "            self.dropout_1s = t.nn.Dropout(self.dropout)\n",
    "            self.dropout_1t = t.nn.Dropout(self.dropout)\n",
    "        self.dropout_2 = t.nn.Dropout(self.dropout)\n",
    "        self.lsm = nn.LogSoftmax()\n",
    "\n",
    "        self.beam_size = params.get('beam_size', 3)\n",
    "        self.max_beam_depth = params.get('max_beam_depth', 20)\n",
    "\n",
    "        if self.cuda_flag:\n",
    "            self = self.cuda()\n",
    "\n",
    "    def init_hidden(self, data, type, batch_size=None):\n",
    "        \"\"\"\n",
    "        Initialize the hidden state, either for the encoder or the decoder\n",
    "\n",
    "        For type=`enc`, it should just be initialized with 0s\n",
    "        For type=`dec`, it should be initialized with tanh(W h1_backward) (see page 13 of the paper, last paragraph)\n",
    "\n",
    "        `data` is either something you initialize the hidden state with, or None\n",
    "        \"\"\"\n",
    "        bs = batch_size if batch_size is not None else self.batch_size\n",
    "        if type == 'dec':\n",
    "            # in that case, `data` is the output of the encoder\n",
    "            # data[:, :1, self.hidden_dim // 2:]\n",
    "            # `:` for the whole batch\n",
    "            # `:1` because you want the hidden state of the first time step (see paper, they use backward(h1))\n",
    "            # but also `self.hidden_dim // 2:`, because you want the backward part only (the last coefficients)\n",
    "            h = F.tanh(self.hidden_dec_initializer(data[:, :1, self.hidden_dim // 2:]))  # the last hdim/2 weights correspond to the backward layer(s)\n",
    "            h = h.transpose(1, 0)\n",
    "            h = t.cat(t.split(h, self.hidden_dim, dim=2), 0)\n",
    "            return (\n",
    "                h,\n",
    "                variable(np.zeros((self.num_layers, bs, self.hidden_dim)), cuda=self.cuda_flag)\n",
    "            )\n",
    "        elif type == 'enc':\n",
    "            # in that case data is None\n",
    "            return tuple((\n",
    "                variable(np.zeros((self.num_layers * 2, bs, self.hidden_dim // 2)), cuda=self.cuda_flag),\n",
    "                variable(np.zeros((self.num_layers * 2, bs, self.hidden_dim // 2)), cuda=self.cuda_flag)\n",
    "            ))\n",
    "        else:\n",
    "            raise ValueError('the type should be either `dec` or `enc`')\n",
    "\n",
    "    def forward(self, x_source, x_target, return_attn=False):\n",
    "        # EMBEDDING\n",
    "        embedded_x_source = self.source_embeddings(x_source)\n",
    "        embedded_x_target = self.target_embeddings(x_target[:, :-1])  # don't make a prediction for the word following the last one\n",
    "        if self.embed_dropout:\n",
    "            embedded_x_source = self.dropout_1s(embedded_x_source)\n",
    "            embedded_x_target = self.dropout_1t(embedded_x_target)\n",
    "\n",
    "        # RECURRENT\n",
    "        hidden = self.init_hidden(None, 'enc', x_source.size(0))\n",
    "        enc_out, _ = self.encoder_rnn(embedded_x_source, hidden)\n",
    "        hidden = self.init_hidden(enc_out, 'dec', x_source.size(0))\n",
    "        dec_out, _ = self.decoder_rnn(embedded_x_target, hidden)\n",
    "\n",
    "        # ATTENTION\n",
    "        scores = t.bmm(enc_out, dec_out.transpose(1, 2))  # this will be a batch x source_len x target_len\n",
    "        attn_dist = F.softmax(scores, dim=1)  # batch x source_len x target_len\n",
    "        context = t.bmm(attn_dist.permute(0, 2, 1), enc_out)  # batch x target_len x hidden_dim\n",
    "\n",
    "        # OUTPUT\n",
    "        # concatenate the output of the decoder and the context and apply nonlinearity\n",
    "        pred = F.tanh(t.cat([dec_out, context], -1))\n",
    "        pred = self.dropout_2(pred)  # batch x target_len x 2 hdim\n",
    "        pred = self.hidden2out(pred)\n",
    "\n",
    "        if return_attn:\n",
    "            return pred, attn_dist\n",
    "        else:\n",
    "            return pred\n",
    "\n",
    "    def translate(self, x_source):\n",
    "        self.eval()\n",
    "\n",
    "        # EMBEDDING\n",
    "        embedded_x_source = self.source_embeddings(x_source)\n",
    "        if self.embed_dropout:\n",
    "            embedded_x_source = self.dropout_1s(embedded_x_source)\n",
    "\n",
    "        # RECURRENT\n",
    "        hidden = self.init_hidden(None, 'enc', x_source.size(0))\n",
    "        enc_out, _ = self.encoder_rnn(embedded_x_source, hidden)\n",
    "        hidden = self.init_hidden(enc_out, 'dec', x_source.size(0))\n",
    "        x_target = (SOS_TOKEN * t.ones(x_source.size(0), 1)).long()  # `2` is the SOS token (<s>)\n",
    "        x_target = variable(x_target, to_float=False, cuda=self.cuda_flag)\n",
    "        count_eos = 0\n",
    "        time = 0\n",
    "        while count_eos < x_source.size(0):\n",
    "            embedded_x_target = self.target_embeddings(x_target)\n",
    "            dec_out, hidden = self.decoder_rnn(embedded_x_target, hidden)\n",
    "            hidden = hidden[0].detach(), hidden[1].detach()\n",
    "            dec_out = dec_out[:, time:time + 1, :].detach()\n",
    "\n",
    "            # ATTENTION\n",
    "            scores = t.bmm(enc_out, dec_out.transpose(1, 2))  # this will be a batch x source_len x target_len\n",
    "            try:\n",
    "                attn_dist = F.softmax(scores, dim=1)  # batch x source_len x target_len\n",
    "            except:\n",
    "                attn_dist = F.softmax(scores.permute(1, 0, 2)).permute(1, 0, 2)\n",
    "            context = t.bmm(attn_dist.permute(0, 2, 1), enc_out)  # batch x target_len x hidden_dim\n",
    "\n",
    "            # OUTPUT\n",
    "            # concatenate the output of the decoder and the context and apply nonlinearity\n",
    "            pred = F.tanh(t.cat([dec_out, context], -1))\n",
    "            pred = self.dropout_2(pred)  # batch x target_len x 2 hdim\n",
    "            pred = self.hidden2out(pred).detach()\n",
    "            x_target = t.cat([x_target, pred.max(2)[1]], 1).detach()\n",
    "\n",
    "            # should you stop ?\n",
    "            count_eos += t.sum((pred.max(2)[1] == EOS_TOKEN).long()).data.cpu().numpy()[0]  # `3` is the EOS token\n",
    "            time += 1\n",
    "        return x_target\n",
    "\n",
    "    def translate_beam(self, x_source,print_beam_row=-1):\n",
    "        self.eval()\n",
    "\n",
    "        # EMBEDDING\n",
    "        embedded_x_source = self.source_embeddings(x_source)\n",
    "        if self.embed_dropout:\n",
    "            embedded_x_source = self.dropout_1s(embedded_x_source)\n",
    "\n",
    "        terminate_beam = False\n",
    "        batch_size = x_source.size(0)\n",
    "\n",
    "        # RECURRENT\n",
    "        hidden = self.init_hidden(None, 'enc', x_source.size(0))\n",
    "        enc_out, _ = self.encoder_rnn(embedded_x_source, hidden)\n",
    "        \n",
    "        #One hidden for each beam element.\n",
    "        hidden = []\n",
    "        for i in range(self.beam_size):\n",
    "            hidden.append(self.init_hidden(enc_out, 'dec', x_source.size(0)))\n",
    "            \n",
    "        x_target = SOS_TOKEN * np.ones((x_source.size(0), 1))  # `2` is the SOS token (<s>)\n",
    "        count_eos = 0\n",
    "        time = 0\n",
    "\n",
    "        # INIT SOME STUFF.\n",
    "        self.beam = np.array(x_target)\n",
    "        self.beam_scores = np.zeros((batch_size, 1))\n",
    "\n",
    "        while not terminate_beam and time < self.max_beam_depth:\n",
    "            collective_children = np.array([])\n",
    "            collective_scores = np.array([])\n",
    "\n",
    "            #import pdb; pdb.set_trace()   \n",
    "            if len(self.beam.shape) < 3:\n",
    "                reshaped_beam = self.beam.transpose((1,0))            \n",
    "            else:\n",
    "                reshaped_beam = np.transpose(self.beam,(1,0,2))                \n",
    "             \n",
    "            for it, elem in enumerate(reshaped_beam):\n",
    "                elem = t.from_numpy(elem).long()\n",
    "                x_target = elem.contiguous().view(self.batch_size, -1)\n",
    "                x_target = variable(x_target, to_float=False, cuda=self.cuda_flag).long()\n",
    "                embedded_x_target = self.target_embeddings(x_target)\n",
    "                dec_out, hidden_out = self.decoder_rnn(embedded_x_target, hidden[it])\n",
    "                hidden[it] = hidden_out[0].detach(), hidden_out[1].detach()\n",
    "                dec_out = dec_out[:, time:time + 1, :].detach()\n",
    "\n",
    "                # ATTENTION\n",
    "                scores = t.bmm(enc_out, dec_out.transpose(1, 2))  # this will be a batch x source_len x target_len\n",
    "                try:\n",
    "                    attn_dist = F.softmax(scores, dim=1)  # batch x source_len x target_len\n",
    "                except:\n",
    "                    attn_dist = F.softmax(scores.permute(1, 0, 2)).permute(1, 0, 2)\n",
    "                context = t.bmm(attn_dist.permute(0, 2, 1), enc_out)  # batch x target_len x hidden_dim\n",
    "\n",
    "                # OUTPUT\n",
    "                # concatenate the output of the decoder and the context and apply nonlinearity\n",
    "                pred = F.tanh(t.cat([dec_out, context], -1))\n",
    "                pred = self.dropout_2(pred)  # batch x target_len x 2 hdim\n",
    "                pred = self.hidden2out(pred).detach()\n",
    "                pred = self.lsm(pred.view(batch_size,-1)).detach()\n",
    "\n",
    "                topk = t.topk(pred, self.beam_size, dim=1)\n",
    "                top_k_indices, top_k_scores = topk[1], topk[0]\n",
    "                top_k_indices = top_k_indices.transpose(0,1)\n",
    "                top_k_scores = top_k_scores.transpose(0,1)\n",
    "                \n",
    "                #import pdb; pdb.set_trace()\n",
    "                \n",
    "                for new_word_batch, new_score_batch in zip(top_k_indices, top_k_scores):\n",
    "                    new_word_batch = new_word_batch.contiguous().view(batch_size,1)\n",
    "                    new_score_batch = new_score_batch.contiguous().view(batch_size,1)\n",
    "                     \n",
    "                    new_child_batch = t.cat([x_target, new_word_batch], 1).detach()\n",
    "\n",
    "                    batch_parent_score = self.beam_scores[:, it].reshape((self.batch_size, 1))\n",
    "                    batch_acc_score = batch_parent_score + new_score_batch.data.cpu().numpy()\n",
    "\n",
    "                    if len(collective_children) > 0:\n",
    "                        collective_children = np.hstack((collective_children, new_child_batch.data.cpu().numpy()))\n",
    "                        # Add the corresponding beam element's score with the new score and stack it.\n",
    "                        collective_scores = np.hstack((collective_scores, batch_acc_score))\n",
    "                    else:\n",
    "                        collective_children, collective_scores = new_child_batch.data.cpu().numpy(), batch_acc_score\n",
    "\n",
    "\n",
    "            current_beam_length = self.beam.shape[1]            \n",
    "            collective_children = collective_children.reshape((batch_size, current_beam_length * self.beam_size,\n",
    "                                                               int(collective_children.shape[1] /\n",
    "                                                                   current_beam_length / self.beam_size)\n",
    "                                                               ))\n",
    "\n",
    "            if collective_children.shape[1] == self.beam_size:  # Happens the first time.\n",
    "                self.beam = collective_children\n",
    "                self.beam_scores = collective_scores\n",
    "                if print_beam_row > -1:\n",
    "                    for l in range(self.beam_size):\n",
    "                        print([EN.vocab.itos[int(x)] for x in self.beam[print_beam_row,int(l)]])\n",
    "            else:\n",
    "                self.beam = deepcopy(np.zeros((batch_size, self.beam_size, collective_children.shape[2])))\n",
    "                #import pdb; pdb.set_trace()\n",
    "                for i in range(batch_size):\n",
    "                    # Since argsort gives ascending order\n",
    "                    best_scores_indices = np.argsort(-1 * collective_scores[i])[:self.beam_size]\n",
    "                    for key, index in enumerate(best_scores_indices):\n",
    "                        self.beam[i][key][:] = collective_children[i][index]\n",
    "                        self.beam_scores[i][key] = collective_scores[i][index]\n",
    "                if print_beam_row > -1:\n",
    "                    for l in range(self.beam_size):\n",
    "                        print([EN.vocab.itos[int(x)] for x in self.beam[print_beam_row,int(l)]])\n",
    "\n",
    "            terminate_beam = True\n",
    "\n",
    "            for x in self.beam:\n",
    "                for c in x:\n",
    "                    if EOS_TOKEN not in c:\n",
    "                        terminate_beam = False\n",
    "                        break\n",
    "                if not terminate_beam:\n",
    "                    break\n",
    "            \n",
    "            \n",
    "            assert (self.beam.shape == (batch_size, self.beam_size, time + 2))\n",
    "\n",
    "            time += 1\n",
    "            #print(time)\n",
    "        return self.beam\n"
   ]
  },
  {
   "cell_type": "code",
   "execution_count": 45,
   "metadata": {},
   "outputs": [
    {
     "name": "stdout",
     "output_type": "stream",
     "text": [
      "Initializing LSTMA\n"
     ]
    }
   ],
   "source": [
    "import json\n",
    "from utils import load_model\n",
    "import os\n",
    "os.chdir('../HW3')\n",
    "#from data_process import generate_kaggle_text\n",
    "\n",
    "beam_size = 100\n",
    "#from translation_models import LSTMA\n",
    "from const import *\n",
    "with open('LSTMA/4.params.json', 'r') as f:\n",
    "    params = json.load(f)\n",
    "params['beam_size'] = beam_size\n",
    "params['max_beam_depth'] = 5\n",
    "lstma = LSTMA(params).cuda()\n",
    "load_model(lstma, 'LSTMA/4.pytorch', cuda=True)"
   ]
  },
  {
   "cell_type": "code",
   "execution_count": 37,
   "metadata": {},
   "outputs": [
    {
     "name": "stderr",
     "output_type": "stream",
     "text": [
      "/usr/local/lib/python3.5/dist-packages/ipykernel_launcher.py:230: UserWarning: Implicit dimension choice for log_softmax has been deprecated. Change the call to include dim=X as an argument.\n"
     ]
    },
    {
     "name": "stdout",
     "output_type": "stream",
     "text": [
      "['<s>', 'I']\n",
      "['<s>', 'And']\n",
      "['<s>', 'So']\n",
      "1\n",
      "['<s>', 'I', 'had']\n",
      "['<s>', 'I', 'was']\n",
      "['<s>', 'And', 'I']\n",
      "2\n",
      "['<s>', 'I', 'had', 'a']\n",
      "['<s>', 'I', 'had', 'an']\n",
      "['<s>', 'I', 'was', 'a']\n",
      "3\n",
      "['<s>', 'I', 'had', 'a', 'idea']\n",
      "['<s>', 'I', 'had', 'an', 'idea']\n",
      "['<s>', 'I', 'was', 'a', 'idea']\n",
      "4\n",
      "['<s>', 'I', 'had', 'a', 'idea', '.']\n",
      "['<s>', 'I', 'had', 'an', 'idea', '.']\n",
      "['<s>', 'I', 'was', 'a', 'idea', '.']\n",
      "5\n",
      "['<s>', 'I', 'had', 'a', 'idea', '.', '</s>']\n",
      "['<s>', 'I', 'had', 'an', 'idea', '.', '</s>']\n",
      "['<s>', 'I', 'was', 'a', 'idea', '.', '</s>']\n",
      "6\n",
      "['<s>', 'I', 'had', 'a', 'idea', '.', '</s>', '.']\n",
      "['<s>', 'I', 'had', 'an', 'idea', '.', '</s>', '.']\n",
      "['<s>', 'I', 'had', 'a', 'idea', '.', '</s>', 'a']\n",
      "7\n",
      "['<s>', 'I', 'had', 'a', 'idea', '.', '</s>', '.', '</s>']\n",
      "['<s>', 'I', 'had', 'an', 'idea', '.', '</s>', '.', '</s>']\n",
      "['<s>', 'I', 'had', 'a', 'idea', '.', '</s>', 'a', 'idea']\n",
      "8\n",
      "['<s>', 'I', 'had', 'a', 'idea', '.', '</s>', '.', '</s>', '.']\n",
      "['<s>', 'I', 'had', 'a', 'idea', '.', '</s>', 'a', 'idea', '.']\n",
      "['<s>', 'I', 'had', 'an', 'idea', '.', '</s>', '.', '</s>', '.']\n",
      "9\n"
     ]
    }
   ],
   "source": [
    "val_iter.batch_size = 64\n",
    "for batch in val_iter:\n",
    "    pred_beam = lstma.translate_beam(batch.src.transpose(0,1).cuda(),print_beam_row=12) \n",
    "    break"
   ]
  },
  {
   "cell_type": "code",
   "execution_count": 66,
   "metadata": {},
   "outputs": [],
   "source": [
    "def escape(l):\n",
    "    return l.replace(\"\\\"\", \"<quote>\").replace(\",\", \"<comma>\")\n",
    "\n",
    "def generate_kaggle_text( trained_model, DE, EN, batch_size, beam_size, total_sentences, num_words =3, \n",
    "                         expt_name = \"LSTM_Attention\", debug = False, print_on_screen = False):\n",
    "    batch_count = 0\n",
    "    top_predictions = np.ones((total_sentences,beam_size,num_words))*-1 \n",
    "\n",
    "    it = 0\n",
    "    for line in open('source_test.txt'):\n",
    "        words = line.split()  \n",
    "        line_int = np.array([DE.vocab.stoi[w] for w in words])         \n",
    "        \n",
    "        line_int_tensor = t.from_numpy(line_int)\n",
    "        line_int_tensor = Variable(line_int_tensor.view(1,-1))      \n",
    "\n",
    "        pred_beam = trained_model.translate_beam(line_int_tensor.cuda()) \n",
    "\n",
    "        for i in range(batch_size):\n",
    "            for j in range(beam_size) :                \n",
    "                top_predictions[batch_count*batch_size+i,j] = pred_beam[i,j,1:num_words+1]\n",
    "                np.save(\"kaggle_predictions\",top_predictions)\n",
    "\n",
    "        batch_count += 1\n",
    "\n",
    "        if debug:\n",
    "            if batch_count == 2:\n",
    "                break\n",
    "        print(batch_count, \" of 800 over\") \n",
    "    \n",
    "    np.save(\"kaggle_predictions\",top_predictions)        \n",
    "\n",
    "    if not print_on_screen:        \n",
    "        with open(expt_name + \".txt\", \"w\") as fout:\n",
    "            print(\"id,word\", file = fout)\n",
    "            for i in range(total_sentences):\n",
    "                print(str(i+1)+\",\",end=\"\",file = fout)\n",
    "                for j in range(beam_size):\n",
    "                    print(\"|\".join([escape(EN.vocab.itos[int(x)]) for x in top_predictions[i][j]]), \" \", end  = \"\",file = fout)\n",
    "                print(\"\",file = fout)\n",
    "    else:\n",
    "        print(\"id,word\")\n",
    "        for i in range(total_sentences):\n",
    "            print(str(i+1)+\",\",end=\"\")\n",
    "            for j in range(beam_size):\n",
    "                print(\"|\".join([escape(EN.vocab.itos[int(x)]) for x in top_predictions[i][j]]), \" \", end  = \"\")\n",
    "            print(\"\")"
   ]
  },
  {
   "cell_type": "code",
   "execution_count": null,
   "metadata": {
    "scrolled": true
   },
   "outputs": [
    {
     "name": "stderr",
     "output_type": "stream",
     "text": [
      "/usr/local/lib/python3.5/dist-packages/ipykernel_launcher.py:230: UserWarning: Implicit dimension choice for log_softmax has been deprecated. Change the call to include dim=X as an argument.\n"
     ]
    },
    {
     "name": "stdout",
     "output_type": "stream",
     "text": [
      "1  of 800 over\n",
      "2  of 800 over\n",
      "3  of 800 over\n",
      "4  of 800 over\n",
      "5  of 800 over\n",
      "6  of 800 over\n",
      "7  of 800 over\n",
      "8  of 800 over\n",
      "9  of 800 over\n",
      "10  of 800 over\n",
      "11  of 800 over\n",
      "12  of 800 over\n",
      "13  of 800 over\n",
      "14  of 800 over\n",
      "15  of 800 over\n",
      "16  of 800 over\n",
      "17  of 800 over\n",
      "18  of 800 over\n",
      "19  of 800 over\n",
      "20  of 800 over\n",
      "21  of 800 over\n",
      "22  of 800 over\n",
      "23  of 800 over\n",
      "24  of 800 over\n",
      "25  of 800 over\n",
      "26  of 800 over\n",
      "27  of 800 over\n",
      "28  of 800 over\n",
      "29  of 800 over\n",
      "30  of 800 over\n",
      "31  of 800 over\n",
      "32  of 800 over\n",
      "33  of 800 over\n",
      "34  of 800 over\n",
      "35  of 800 over\n",
      "36  of 800 over\n",
      "37  of 800 over\n",
      "38  of 800 over\n",
      "39  of 800 over\n",
      "40  of 800 over\n",
      "41  of 800 over\n",
      "42  of 800 over\n",
      "43  of 800 over\n",
      "44  of 800 over\n",
      "45  of 800 over\n",
      "46  of 800 over\n",
      "47  of 800 over\n",
      "48  of 800 over\n",
      "49  of 800 over\n",
      "50  of 800 over\n",
      "51  of 800 over\n",
      "52  of 800 over\n",
      "53  of 800 over\n",
      "54  of 800 over\n",
      "55  of 800 over\n",
      "56  of 800 over\n",
      "57  of 800 over\n",
      "58  of 800 over\n",
      "59  of 800 over\n",
      "60  of 800 over\n",
      "61  of 800 over\n",
      "62  of 800 over\n",
      "63  of 800 over\n",
      "64  of 800 over\n",
      "65  of 800 over\n",
      "66  of 800 over\n",
      "67  of 800 over\n",
      "68  of 800 over\n",
      "69  of 800 over\n",
      "70  of 800 over\n",
      "71  of 800 over\n",
      "72  of 800 over\n",
      "73  of 800 over\n",
      "74  of 800 over\n",
      "75  of 800 over\n",
      "76  of 800 over\n",
      "77  of 800 over\n",
      "78  of 800 over\n",
      "79  of 800 over\n",
      "80  of 800 over\n",
      "81  of 800 over\n",
      "82  of 800 over\n",
      "83  of 800 over\n",
      "84  of 800 over\n",
      "85  of 800 over\n",
      "86  of 800 over\n",
      "87  of 800 over\n",
      "88  of 800 over\n",
      "89  of 800 over\n",
      "90  of 800 over\n",
      "91  of 800 over\n",
      "92  of 800 over\n",
      "93  of 800 over\n",
      "94  of 800 over\n",
      "95  of 800 over\n",
      "96  of 800 over\n",
      "97  of 800 over\n",
      "98  of 800 over\n",
      "99  of 800 over\n",
      "100  of 800 over\n",
      "101  of 800 over\n",
      "102  of 800 over\n",
      "103  of 800 over\n",
      "104  of 800 over\n",
      "105  of 800 over\n",
      "106  of 800 over\n",
      "107  of 800 over\n",
      "108  of 800 over\n",
      "109  of 800 over\n",
      "110  of 800 over\n",
      "111  of 800 over\n",
      "112  of 800 over\n",
      "113  of 800 over\n",
      "114  of 800 over\n",
      "115  of 800 over\n",
      "116  of 800 over\n",
      "117  of 800 over\n",
      "118  of 800 over\n",
      "119  of 800 over\n",
      "120  of 800 over\n",
      "121  of 800 over\n",
      "122  of 800 over\n"
     ]
    }
   ],
   "source": [
    "batch_size,beam_size,tot = 1,100,800\n",
    "lstma.batch_size = batch_size\n",
    "generate_kaggle_text(lstma,DE,EN,batch_size,beam_size,tot,debug=False,print_on_screen = False)"
   ]
  },
  {
   "cell_type": "code",
   "execution_count": null,
   "metadata": {
    "scrolled": true
   },
   "outputs": [],
   "source": [
    "val_iter.batch_size = 64\n",
    "for batch in val_iter:\n",
    "    break\n",
    "pred = lstma.translate(batch.src.transpose(0,1).cuda())"
   ]
  },
  {
   "cell_type": "markdown",
   "metadata": {},
   "source": [
    "###  TEST BEAM PREDICTION - remember beam is of dimension - batch size * beam size . so pred_beam[a][b] will give ath element \n",
    "\n",
    "in the batch and its bth beam value. b= 0 will be the most likely option."
   ]
  },
  {
   "cell_type": "code",
   "execution_count": null,
   "metadata": {},
   "outputs": [],
   "source": [
    "batch_elem = 6\n",
    "print(\"beam's best prediction(Change 0 to other elem for other predicitons) : \")\n",
    "print([EN.vocab.itos[int(x)] for x in pred_beam[batch_elem][0]])\n",
    "print(\"Greedy prediction : \")\n",
    "print([EN.vocab.itos[int(x)] for x in pred[batch_elem].data.cpu().numpy()])\n",
    "print(\"actual text\")\n",
    "print([EN.vocab.itos[x] for x in batch.trg.transpose(0,1)[batch_elem].data.numpy()])\n"
   ]
  },
  {
   "cell_type": "code",
   "execution_count": null,
   "metadata": {},
   "outputs": [],
   "source": [
    "num_lines = sum(1 for line in open('source_test.txt'))\n",
    "print(\"Num lines in text file : \", num_lines)\n",
    "print(\"Test dataset size : \", len(test))"
   ]
  },
  {
   "cell_type": "code",
   "execution_count": null,
   "metadata": {},
   "outputs": [],
   "source": [
    "BATCH_SIZE = 64\n",
    "train_iter, val_iter, test_iter = data.BucketIterator.splits((train, val,test), batch_size=BATCH_SIZE, device=-1, shuffle = False, repeat=False)\n",
    "    "
   ]
  },
  {
   "cell_type": "code",
   "execution_count": null,
   "metadata": {},
   "outputs": [],
   "source": [
    "for line in open('source_test.txt'):\n",
    "    print(line)\n",
    "    break\n",
    "\n",
    "\n",
    "\n",
    "    "
   ]
  },
  {
   "cell_type": "code",
   "execution_count": 69,
   "metadata": {},
   "outputs": [
    {
     "name": "stdout",
     "output_type": "stream",
     "text": [
      "(800, 100, 3)\n"
     ]
    }
   ],
   "source": [
    "a = np.load(\"kaggle_predictions.npy\")\n",
    "print(a.shape)"
   ]
  },
  {
   "cell_type": "code",
   "execution_count": null,
   "metadata": {},
   "outputs": [],
   "source": []
  }
 ],
 "metadata": {
  "kernelspec": {
   "display_name": "Python 3",
   "language": "python",
   "name": "python3"
  },
  "language_info": {
   "codemirror_mode": {
    "name": "ipython",
    "version": 3
   },
   "file_extension": ".py",
   "mimetype": "text/x-python",
   "name": "python",
   "nbconvert_exporter": "python",
   "pygments_lexer": "ipython3",
   "version": "3.5.2"
  }
 },
 "nbformat": 4,
 "nbformat_minor": 2
}
